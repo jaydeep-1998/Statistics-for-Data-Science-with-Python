{
  "metadata": {
    "language_info": {
      "codemirror_mode": {
        "name": "python",
        "version": 3
      },
      "file_extension": ".py",
      "mimetype": "text/x-python",
      "name": "python",
      "nbconvert_exporter": "python",
      "pygments_lexer": "ipython3",
      "version": "3.8"
    },
    "kernelspec": {
      "name": "python",
      "display_name": "Python (Pyodide)",
      "language": "python"
    }
  },
  "nbformat_minor": 4,
  "nbformat": 4,
  "cells": [
    {
      "cell_type": "markdown",
      "source": "<p style=\"text-align:center\">\n    <a href=\"https://skills.network/?utm_medium=Exinfluencer&utm_source=Exinfluencer&utm_content=000026UJ&utm_term=10006555&utm_id=NA-SkillsNetwork-Channel-SkillsNetworkCoursesIBMDeveloperSkillsNetworkST0151ENSkillsNetwork20531532-2022-01-01\" target=\"_blank\">\n    <img src=\"https://cf-courses-data.s3.us.cloud-object-storage.appdomain.cloud/assets/logos/SN_web_lightmode.png\" width=\"200\" alt=\"Skills Network Logo\"  />\n    </a>\n</p>\n",
      "metadata": {}
    },
    {
      "cell_type": "markdown",
      "source": "# **Data Visualization**\n",
      "metadata": {}
    },
    {
      "cell_type": "markdown",
      "source": "Estimated time needed: **30** minutes\n",
      "metadata": {}
    },
    {
      "cell_type": "markdown",
      "source": "In this lab, you will learn how to visualize and interpret data\n",
      "metadata": {}
    },
    {
      "cell_type": "markdown",
      "source": "## Objectives\n",
      "metadata": {}
    },
    {
      "cell_type": "markdown",
      "source": "*   Import Libraries\n*   Lab Exercises\n    *   Identifying duplicates\n    *   Plotting Scatterplots\n    *   Plotting Boxplots\n",
      "metadata": {}
    },
    {
      "cell_type": "markdown",
      "source": "***\n",
      "metadata": {}
    },
    {
      "cell_type": "markdown",
      "source": "## Import Libraries\n",
      "metadata": {}
    },
    {
      "cell_type": "markdown",
      "source": "All Libraries required for this lab are listed below. The libraries pre-installed on Skills Network Labs are commented. \n",
      "metadata": {}
    },
    {
      "cell_type": "code",
      "source": "import piplite\nawait piplite.install(['numpy'])\nawait piplite.install(['pandas'])\nawait piplite.install(['seaborn'])",
      "metadata": {},
      "execution_count": null,
      "outputs": []
    },
    {
      "cell_type": "markdown",
      "source": "Import the libraries we need for the lab\n",
      "metadata": {}
    },
    {
      "cell_type": "code",
      "source": "import numpy as np\nimport pandas as pd\nimport seaborn as sns\nimport matplotlib.pyplot as plt ",
      "metadata": {},
      "execution_count": null,
      "outputs": []
    },
    {
      "cell_type": "code",
      "source": "from js import fetch\nimport io\n\nURL = 'https://cf-courses-data.s3.us.cloud-object-storage.appdomain.cloud/IBMDeveloperSkillsNetwork-ST0151EN-SkillsNetwork/labs/teachingratings.csv'\nresp = await fetch(URL)\nratings_url = io.BytesIO((await resp.arrayBuffer()).to_py())",
      "metadata": {},
      "execution_count": null,
      "outputs": []
    },
    {
      "cell_type": "markdown",
      "source": "Read in the csv file from the url using the request library\n",
      "metadata": {}
    },
    {
      "cell_type": "code",
      "source": "ratings_df = pd.read_csv(ratings_url)",
      "metadata": {},
      "execution_count": null,
      "outputs": []
    },
    {
      "cell_type": "markdown",
      "source": "## Lab Exercises\n",
      "metadata": {}
    },
    {
      "cell_type": "markdown",
      "source": "### Identify all duplicate cases using prof. Using all observations, find the average and standard deviation for age. Repeat the analysis by first filtering the data set to include one observation for each instructor with a total number of observations restricted to 94.\n",
      "metadata": {}
    },
    {
      "cell_type": "markdown",
      "source": "Identify all duplicate cases using prof variable - find the unique values of the prof variables\n",
      "metadata": {}
    },
    {
      "cell_type": "code",
      "source": "ratings_df.prof.unique()",
      "metadata": {},
      "execution_count": null,
      "outputs": []
    },
    {
      "cell_type": "markdown",
      "source": "Print out the number of unique values in the prof variable\n",
      "metadata": {}
    },
    {
      "cell_type": "code",
      "source": "ratings_df.prof.nunique()",
      "metadata": {},
      "execution_count": null,
      "outputs": []
    },
    {
      "cell_type": "markdown",
      "source": "Using all observations, Find the average and standard deviation for age\n",
      "metadata": {}
    },
    {
      "cell_type": "code",
      "source": "ratings_df['age'].mean()",
      "metadata": {},
      "execution_count": null,
      "outputs": []
    },
    {
      "cell_type": "code",
      "source": "ratings_df['age'].std()",
      "metadata": {},
      "execution_count": null,
      "outputs": []
    },
    {
      "cell_type": "markdown",
      "source": "Repeat the analysis by first filtering the data set to include one observation for each instructor with a total number of observations restricted to 94.\n\n> first we drop duplicates using prof as a subset and assign it a new dataframe name called no_duplicates_ratings_df\n",
      "metadata": {}
    },
    {
      "cell_type": "code",
      "source": "no_duplicates_ratings_df = ratings_df.drop_duplicates(subset =['prof'])\nno_duplicates_ratings_df.head()",
      "metadata": {},
      "execution_count": null,
      "outputs": []
    },
    {
      "cell_type": "markdown",
      "source": "> Use the new dataset to get the mean of age\n",
      "metadata": {}
    },
    {
      "cell_type": "code",
      "source": "no_duplicates_ratings_df['age'].mean()",
      "metadata": {},
      "execution_count": null,
      "outputs": []
    },
    {
      "cell_type": "code",
      "source": "no_duplicates_ratings_df['age'].std()",
      "metadata": {},
      "execution_count": null,
      "outputs": []
    },
    {
      "cell_type": "markdown",
      "source": "### Using a bar chart, demonstrate if instructors teaching lower-division courses receive higher average teaching evaluations.\n",
      "metadata": {}
    },
    {
      "cell_type": "code",
      "source": "ratings_df.head()",
      "metadata": {},
      "execution_count": null,
      "outputs": []
    },
    {
      "cell_type": "markdown",
      "source": "Find the average teaching evaluation in both groups of upper and lower-division\n",
      "metadata": {}
    },
    {
      "cell_type": "code",
      "source": "division_eval = ratings_df.groupby('division')[['eval']].mean().reset_index()",
      "metadata": {},
      "execution_count": null,
      "outputs": []
    },
    {
      "cell_type": "markdown",
      "source": "Plot the barplot using the seaborn library\n",
      "metadata": {}
    },
    {
      "cell_type": "code",
      "source": "sns.set(style=\"whitegrid\")\nax = sns.barplot(x=\"division\", y=\"eval\", data=division_eval)\nplt.show()",
      "metadata": {},
      "execution_count": null,
      "outputs": []
    },
    {
      "cell_type": "markdown",
      "source": "### Plot the relationship between age and teaching evaluation scores.\n",
      "metadata": {}
    },
    {
      "cell_type": "markdown",
      "source": "Create a scatterplot with the scatterplot function in the seaborn library\n",
      "metadata": {}
    },
    {
      "cell_type": "code",
      "source": "ax = sns.scatterplot(x='age', y='eval', data=ratings_df)\nplt.show()",
      "metadata": {},
      "execution_count": null,
      "outputs": []
    },
    {
      "cell_type": "markdown",
      "source": "### Using gender-differentiated scatter plots, plot the relationship between age and teaching evaluation scores.\n",
      "metadata": {}
    },
    {
      "cell_type": "markdown",
      "source": "Create a scatterplot with the scatterplot function in the seaborn library this time add the <code>hue</code> argument\n",
      "metadata": {}
    },
    {
      "cell_type": "code",
      "source": "ax = sns.scatterplot(x='age', y='eval', hue='gender',\n                     data=ratings_df)\nplt.show()",
      "metadata": {},
      "execution_count": null,
      "outputs": []
    },
    {
      "cell_type": "markdown",
      "source": "### Create a box plot for beauty scores differentiated by credits.\n",
      "metadata": {}
    },
    {
      "cell_type": "markdown",
      "source": "We use the <code>boxplot()</code> function from the seaborn library\n",
      "metadata": {}
    },
    {
      "cell_type": "code",
      "source": "ax = sns.boxplot(x='credits', y='beauty', data=ratings_df)\nplt.show()",
      "metadata": {},
      "execution_count": null,
      "outputs": []
    },
    {
      "cell_type": "markdown",
      "source": "### What is the number of courses taught by gender?\n",
      "metadata": {}
    },
    {
      "cell_type": "markdown",
      "source": "We use the <code>catplot()</code> function from the seaborn library\n",
      "metadata": {}
    },
    {
      "cell_type": "code",
      "source": "sns.catplot(x='gender', kind='count', data=ratings_df)\nplt.show()",
      "metadata": {},
      "execution_count": null,
      "outputs": []
    },
    {
      "cell_type": "markdown",
      "source": "### Create a group histogram of taught by gender and tenure\n",
      "metadata": {}
    },
    {
      "cell_type": "markdown",
      "source": "We will add the <code>hue = Tenure</code> argument\n",
      "metadata": {}
    },
    {
      "cell_type": "code",
      "source": "sns.catplot(x='gender', hue = 'tenure', kind='count', data=ratings_df)\nplt.show()",
      "metadata": {},
      "execution_count": null,
      "outputs": []
    },
    {
      "cell_type": "markdown",
      "source": "### Add division as another factor to the above histogram\n",
      "metadata": {}
    },
    {
      "cell_type": "markdown",
      "source": "We add another argument named <code>row</code> and use the division variable as the row\n",
      "metadata": {}
    },
    {
      "cell_type": "code",
      "source": "sns.catplot(x='gender', hue = 'tenure', row = 'division',\n            kind='count', data=ratings_df,\n            height = 3, aspect = 2)\nplt.show()",
      "metadata": {},
      "execution_count": null,
      "outputs": []
    },
    {
      "cell_type": "markdown",
      "source": "### Create a scatterplot of age and evaluation scores, differentiated by gender and tenure\n",
      "metadata": {}
    },
    {
      "cell_type": "markdown",
      "source": "Use the <code>relplot()</code> function for complex scatter plots\n",
      "metadata": {}
    },
    {
      "cell_type": "code",
      "source": "sns.relplot(x=\"age\", y=\"eval\", hue=\"gender\",\n            row=\"tenure\",\n            data=ratings_df, height = 3, aspect = 2)\nplt.show()",
      "metadata": {},
      "execution_count": null,
      "outputs": []
    },
    {
      "cell_type": "markdown",
      "source": "### Create a distribution plot of teaching evaluation scores\n",
      "metadata": {}
    },
    {
      "cell_type": "markdown",
      "source": "We use the <code>distplot()</code> function from the seaborn library, set <code>kde = false</code> because we don'e need the curve\n",
      "metadata": {}
    },
    {
      "cell_type": "code",
      "source": "ax = sns.distplot(ratings_df['eval'], kde = False)\nplt.show()",
      "metadata": {},
      "execution_count": null,
      "outputs": []
    },
    {
      "cell_type": "markdown",
      "source": "### Create a distribution plot of teaching evaluation score with gender as a factor\n",
      "metadata": {}
    },
    {
      "cell_type": "code",
      "source": "## use the distplot function from the seaborn library\nsns.distplot(ratings_df[ratings_df['gender'] == 'female']['eval'], color='green', kde=False) \nsns.distplot(ratings_df[ratings_df['gender'] == 'male']['eval'], color=\"orange\", kde=False) \nplt.show()",
      "metadata": {},
      "execution_count": null,
      "outputs": []
    },
    {
      "cell_type": "markdown",
      "source": "### Create a box plot - age of the instructor by gender\n",
      "metadata": {}
    },
    {
      "cell_type": "code",
      "source": "ax = sns.boxplot(x=\"gender\", y=\"age\", data=ratings_df)\nplt.show()\n",
      "metadata": {},
      "execution_count": null,
      "outputs": []
    },
    {
      "cell_type": "markdown",
      "source": "### Compare age along with tenure and gender\n",
      "metadata": {}
    },
    {
      "cell_type": "code",
      "source": "ax = sns.boxplot(x=\"tenure\", y=\"age\", hue=\"gender\",\n                 data=ratings_df)\nplt.show()",
      "metadata": {},
      "execution_count": null,
      "outputs": []
    },
    {
      "cell_type": "markdown",
      "source": "## Practice Questions\n",
      "metadata": {}
    },
    {
      "cell_type": "markdown",
      "source": "### Question 1: Create a distribution plot of beauty scores with Native English speaker as a factor\n\n*   Make the color of the native English speakers plot - orange and non - native English speakers - blue\n",
      "metadata": {}
    },
    {
      "cell_type": "code",
      "source": "## insert code",
      "metadata": {},
      "execution_count": null,
      "outputs": []
    },
    {
      "cell_type": "markdown",
      "source": "Double-click **here** for the solution.\n\n<!-- The answer is below:\nsns.distplot(ratings_df[ratings_df['native'] == 'yes']['beauty'], color=\"orange\", kde=False) \nsns.distplot(ratings_df[ratings_df['native'] == 'no']['beauty'], color=\"blue\", kde=False) \nplt.show()\n-->\n",
      "metadata": {}
    },
    {
      "cell_type": "markdown",
      "source": "### Question 2: Create a Horizontal box plot of the age of the instructors by visible minority\n",
      "metadata": {}
    },
    {
      "cell_type": "code",
      "source": "## insert code",
      "metadata": {},
      "execution_count": null,
      "outputs": []
    },
    {
      "cell_type": "markdown",
      "source": "Double-click **here** for a hint.\n\n<!-- The hint is below:\nRemember that the positions of the argument determine whether it will be vertical or horizontal\n-->\n",
      "metadata": {}
    },
    {
      "cell_type": "markdown",
      "source": "Double-click **here** for the solution.\n\n<!-- The answer is below:\nax = sns.boxplot(x=\"age\", y=\"minority\", data=ratings_df)\nplt.show()\n-->\n",
      "metadata": {}
    },
    {
      "cell_type": "markdown",
      "source": "### Question 3: Create a group histogram of tenure by minority and add the gender factor\n",
      "metadata": {}
    },
    {
      "cell_type": "code",
      "source": "## insert code",
      "metadata": {},
      "execution_count": null,
      "outputs": []
    },
    {
      "cell_type": "markdown",
      "source": "Double-click **here** for the solution.\n\n<!-- The answer is below:\nsns.catplot(x='tenure', hue = 'minority', row = 'gender',\n            kind='count', data=ratings_df,\n            height = 3, aspect = 2)\nplt.show()\n-->\n",
      "metadata": {}
    },
    {
      "cell_type": "markdown",
      "source": "### Question 4: Create a boxplot of the age variable\n",
      "metadata": {}
    },
    {
      "cell_type": "code",
      "source": "## insert code\n",
      "metadata": {},
      "execution_count": null,
      "outputs": []
    },
    {
      "cell_type": "markdown",
      "source": "Double-click **here** for the solution.\n\n<!-- The answer is below:\n## you only habve to specify the y-variable\nax = sns.boxplot(y=\"age\", data=ratings_df)\nplt.show()\n-->\n",
      "metadata": {}
    },
    {
      "cell_type": "markdown",
      "source": "## Authors\n\n[Pratiksha Verma](https://www.linkedin.com/in/pratiksha-verma-6487561b1/?utm_medium=Exinfluencer&utm_source=Exinfluencer&utm_content=000026UJ&utm_term=10006555&utm_id=NA-SkillsNetwork-Channel-SkillsNetworkCoursesIBMDeveloperSkillsNetworkST0151ENSkillsNetwork956-2022-01-01)\n\n## Change Log\n\n| Date (YYYY-MM-DD) | Version | Changed By      | Change Description      |\n| ----------------- | ------- | -------------   | ----------------------- |\n| 2022-11-09        | 1.0     | Pratiksha Verma | Converted initial version to Jupyterlite|\n\n\n<hr>\n\n## <h3 align=\"center\"> IBM Corporation 2022. All rights reserved. <h3/>\n",
      "metadata": {}
    }
  ]
}